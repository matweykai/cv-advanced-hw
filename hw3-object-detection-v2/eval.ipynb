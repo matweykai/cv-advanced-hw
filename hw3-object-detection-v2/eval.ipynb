{
 "cells": [
  {
   "cell_type": "code",
   "execution_count": 9,
   "metadata": {},
   "outputs": [
    {
     "name": "stdout",
     "output_type": "stream",
     "text": [
      "Requirement already satisfied: torch in /Users/jamakase/Projects/univ/itmo/cv-adv/cv-advanced-hw/.venv/lib/python3.11/site-packages (2.7.0)\n",
      "Requirement already satisfied: torchvision in /Users/jamakase/Projects/univ/itmo/cv-adv/cv-advanced-hw/.venv/lib/python3.11/site-packages (0.22.0)\n",
      "Collecting matplotlib\n",
      "  Downloading matplotlib-3.10.1-cp311-cp311-macosx_11_0_arm64.whl.metadata (11 kB)\n",
      "Requirement already satisfied: filelock in /Users/jamakase/Projects/univ/itmo/cv-adv/cv-advanced-hw/.venv/lib/python3.11/site-packages (from torch) (3.18.0)\n",
      "Requirement already satisfied: typing-extensions>=4.10.0 in /Users/jamakase/Projects/univ/itmo/cv-adv/cv-advanced-hw/.venv/lib/python3.11/site-packages (from torch) (4.13.2)\n",
      "Requirement already satisfied: sympy>=1.13.3 in /Users/jamakase/Projects/univ/itmo/cv-adv/cv-advanced-hw/.venv/lib/python3.11/site-packages (from torch) (1.14.0)\n",
      "Requirement already satisfied: networkx in /Users/jamakase/Projects/univ/itmo/cv-adv/cv-advanced-hw/.venv/lib/python3.11/site-packages (from torch) (3.4.2)\n",
      "Requirement already satisfied: jinja2 in /Users/jamakase/Projects/univ/itmo/cv-adv/cv-advanced-hw/.venv/lib/python3.11/site-packages (from torch) (3.1.6)\n",
      "Requirement already satisfied: fsspec in /Users/jamakase/Projects/univ/itmo/cv-adv/cv-advanced-hw/.venv/lib/python3.11/site-packages (from torch) (2025.3.2)\n",
      "Requirement already satisfied: numpy in /Users/jamakase/Projects/univ/itmo/cv-adv/cv-advanced-hw/.venv/lib/python3.11/site-packages (from torchvision) (2.2.5)\n",
      "Requirement already satisfied: pillow!=8.3.*,>=5.3.0 in /Users/jamakase/Projects/univ/itmo/cv-adv/cv-advanced-hw/.venv/lib/python3.11/site-packages (from torchvision) (11.2.1)\n",
      "Collecting contourpy>=1.0.1 (from matplotlib)\n",
      "  Downloading contourpy-1.3.2-cp311-cp311-macosx_11_0_arm64.whl.metadata (5.5 kB)\n",
      "Collecting cycler>=0.10 (from matplotlib)\n",
      "  Using cached cycler-0.12.1-py3-none-any.whl.metadata (3.8 kB)\n",
      "Collecting fonttools>=4.22.0 (from matplotlib)\n",
      "  Downloading fonttools-4.57.0-cp311-cp311-macosx_10_9_universal2.whl.metadata (102 kB)\n",
      "Collecting kiwisolver>=1.3.1 (from matplotlib)\n",
      "  Downloading kiwisolver-1.4.8-cp311-cp311-macosx_11_0_arm64.whl.metadata (6.2 kB)\n",
      "Requirement already satisfied: packaging>=20.0 in /Users/jamakase/Projects/univ/itmo/cv-adv/cv-advanced-hw/.venv/lib/python3.11/site-packages (from matplotlib) (25.0)\n",
      "Collecting pyparsing>=2.3.1 (from matplotlib)\n",
      "  Using cached pyparsing-3.2.3-py3-none-any.whl.metadata (5.0 kB)\n",
      "Requirement already satisfied: python-dateutil>=2.7 in /Users/jamakase/Projects/univ/itmo/cv-adv/cv-advanced-hw/.venv/lib/python3.11/site-packages (from matplotlib) (2.9.0.post0)\n",
      "Requirement already satisfied: six>=1.5 in /Users/jamakase/Projects/univ/itmo/cv-adv/cv-advanced-hw/.venv/lib/python3.11/site-packages (from python-dateutil>=2.7->matplotlib) (1.17.0)\n",
      "Requirement already satisfied: mpmath<1.4,>=1.1.0 in /Users/jamakase/Projects/univ/itmo/cv-adv/cv-advanced-hw/.venv/lib/python3.11/site-packages (from sympy>=1.13.3->torch) (1.3.0)\n",
      "Requirement already satisfied: MarkupSafe>=2.0 in /Users/jamakase/Projects/univ/itmo/cv-adv/cv-advanced-hw/.venv/lib/python3.11/site-packages (from jinja2->torch) (3.0.2)\n",
      "Downloading matplotlib-3.10.1-cp311-cp311-macosx_11_0_arm64.whl (8.0 MB)\n",
      "\u001b[2K   \u001b[90m━━━━━━━━━━━━━━━━━━━━━━━━━━━━━━━━━━━━━━━━\u001b[0m \u001b[32m8.0/8.0 MB\u001b[0m \u001b[31m3.2 MB/s\u001b[0m eta \u001b[36m0:00:00\u001b[0m00:01\u001b[0m00:01\u001b[0m\n",
      "\u001b[?25hDownloading contourpy-1.3.2-cp311-cp311-macosx_11_0_arm64.whl (254 kB)\n",
      "Using cached cycler-0.12.1-py3-none-any.whl (8.3 kB)\n",
      "Downloading fonttools-4.57.0-cp311-cp311-macosx_10_9_universal2.whl (2.8 MB)\n",
      "\u001b[2K   \u001b[90m━━━━━━━━━━━━━━━━━━━━━━━━━━━━━━━━━━━━━━━━\u001b[0m \u001b[32m2.8/2.8 MB\u001b[0m \u001b[31m4.9 MB/s\u001b[0m eta \u001b[36m0:00:00\u001b[0ma \u001b[36m0:00:01\u001b[0m\n",
      "\u001b[?25hDownloading kiwisolver-1.4.8-cp311-cp311-macosx_11_0_arm64.whl (65 kB)\n",
      "Using cached pyparsing-3.2.3-py3-none-any.whl (111 kB)\n",
      "Installing collected packages: pyparsing, kiwisolver, fonttools, cycler, contourpy, matplotlib\n",
      "\u001b[2K   \u001b[90m━━━━━━━━━━━━━━━━━━━━━━━━━━━━━━━━━━━━━━━━\u001b[0m \u001b[32m6/6\u001b[0m [matplotlib]6\u001b[0m [matplotlib]\n",
      "\u001b[1A\u001b[2KSuccessfully installed contourpy-1.3.2 cycler-0.12.1 fonttools-4.57.0 kiwisolver-1.4.8 matplotlib-3.10.1 pyparsing-3.2.3\n"
     ]
    }
   ],
   "source": [
    "!pip install torch torchvision matplotlib"
   ]
  },
  {
   "cell_type": "code",
   "execution_count": 2,
   "metadata": {},
   "outputs": [
    {
     "name": "stdout",
     "output_type": "stream",
     "text": [
      "Using most recent model directory: models/yolo_v1/04_29_2025/13_11_17\n",
      "Loaded 2 classes: ['pig', 'worker']\n",
      "Loading validation dataset...\n",
      "Loading model from models/yolo_v1/04_29_2025/13_11_17...\n"
     ]
    },
    {
     "ename": "RuntimeError",
     "evalue": "Error(s) in loading state_dict for YOLOv1:\n\tMissing key(s) in state_dict: \"model.17.weight\", \"model.17.bias\", \"model.23.weight\", \"model.23.bias\", \"model.29.weight\", \"model.29.bias\", \"model.33.weight\", \"model.33.bias\", \"model.36.weight\", \"model.36.bias\", \"model.40.weight\", \"model.40.bias\", \"model.42.weight\", \"model.42.bias\", \"model.44.weight\", \"model.44.bias\", \"model.48.weight\", \"model.48.bias\", \"model.51.weight\", \"model.51.bias\", \"model.54.weight\", \"model.54.bias\". \n\tUnexpected key(s) in state_dict: \"model.16.weight\", \"model.16.bias\", \"model.18.weight\", \"model.18.bias\", \"model.22.weight\", \"model.22.bias\", \"model.24.weight\", \"model.24.bias\", \"model.28.weight\", \"model.28.bias\", \"model.32.weight\", \"model.32.bias\", \"model.34.weight\", \"model.34.bias\", \"model.35.weight\", \"model.35.bias\", \"model.41.weight\", \"model.41.bias\", \"model.43.weight\", \"model.43.bias\", \"model.49.weight\", \"model.49.bias\". \n\tsize mismatch for model.19.weight: copying a param with shape torch.Size([512, 256, 3, 3]) from checkpoint, the shape in current model is torch.Size([256, 512, 1, 1]).\n\tsize mismatch for model.19.bias: copying a param with shape torch.Size([512]) from checkpoint, the shape in current model is torch.Size([256]).\n\tsize mismatch for model.21.weight: copying a param with shape torch.Size([256, 512, 1, 1]) from checkpoint, the shape in current model is torch.Size([512, 256, 3, 3]).\n\tsize mismatch for model.21.bias: copying a param with shape torch.Size([256]) from checkpoint, the shape in current model is torch.Size([512]).\n\tsize mismatch for model.27.weight: copying a param with shape torch.Size([512, 512, 1, 1]) from checkpoint, the shape in current model is torch.Size([256, 512, 1, 1]).\n\tsize mismatch for model.27.bias: copying a param with shape torch.Size([512]) from checkpoint, the shape in current model is torch.Size([256]).\n\tsize mismatch for model.31.weight: copying a param with shape torch.Size([512, 1024, 1, 1]) from checkpoint, the shape in current model is torch.Size([512, 512, 1, 1]).\n\tsize mismatch for model.37.weight: copying a param with shape torch.Size([1024, 1024, 3, 3]) from checkpoint, the shape in current model is torch.Size([1024, 512, 3, 3]).\n\tsize mismatch for model.39.weight: copying a param with shape torch.Size([1024, 1024, 3, 3]) from checkpoint, the shape in current model is torch.Size([512, 1024, 1, 1]).\n\tsize mismatch for model.39.bias: copying a param with shape torch.Size([1024]) from checkpoint, the shape in current model is torch.Size([512]).\n\tsize mismatch for model.46.weight: copying a param with shape torch.Size([4096, 50176]) from checkpoint, the shape in current model is torch.Size([1024, 1024, 3, 3]).\n\tsize mismatch for model.46.bias: copying a param with shape torch.Size([4096]) from checkpoint, the shape in current model is torch.Size([1024]).",
     "output_type": "error",
     "traceback": [
      "\u001b[31m---------------------------------------------------------------------------\u001b[39m",
      "\u001b[31mRuntimeError\u001b[39m                              Traceback (most recent call last)",
      "\u001b[36mCell\u001b[39m\u001b[36m \u001b[39m\u001b[32mIn[2]\u001b[39m\u001b[32m, line 46\u001b[39m\n\u001b[32m     44\u001b[39m model.eval()\n\u001b[32m     45\u001b[39m weights_path = os.path.join(model_dir, \u001b[33m'\u001b[39m\u001b[33mweights\u001b[39m\u001b[33m'\u001b[39m, weights)\n\u001b[32m---> \u001b[39m\u001b[32m46\u001b[39m \u001b[43mmodel\u001b[49m\u001b[43m.\u001b[49m\u001b[43mload_state_dict\u001b[49m\u001b[43m(\u001b[49m\u001b[43mtorch\u001b[49m\u001b[43m.\u001b[49m\u001b[43mload\u001b[49m\u001b[43m(\u001b[49m\u001b[43mweights_path\u001b[49m\u001b[43m,\u001b[49m\u001b[43m \u001b[49m\u001b[43mmap_location\u001b[49m\u001b[43m=\u001b[49m\u001b[43mutils\u001b[49m\u001b[43m.\u001b[49m\u001b[43mdevice\u001b[49m\u001b[43m)\u001b[49m\u001b[43m)\u001b[49m\n\u001b[32m     47\u001b[39m model = model.to(utils.device)\n",
      "\u001b[36mFile \u001b[39m\u001b[32m~/Projects/univ/itmo/cv-adv/cv-advanced-hw/hw3-object-detection/.venv/lib/python3.11/site-packages/torch/nn/modules/module.py:2581\u001b[39m, in \u001b[36mModule.load_state_dict\u001b[39m\u001b[34m(self, state_dict, strict, assign)\u001b[39m\n\u001b[32m   2573\u001b[39m         error_msgs.insert(\n\u001b[32m   2574\u001b[39m             \u001b[32m0\u001b[39m,\n\u001b[32m   2575\u001b[39m             \u001b[33m\"\u001b[39m\u001b[33mMissing key(s) in state_dict: \u001b[39m\u001b[38;5;132;01m{}\u001b[39;00m\u001b[33m. \u001b[39m\u001b[33m\"\u001b[39m.format(\n\u001b[32m   2576\u001b[39m                 \u001b[33m\"\u001b[39m\u001b[33m, \u001b[39m\u001b[33m\"\u001b[39m.join(\u001b[33mf\u001b[39m\u001b[33m'\u001b[39m\u001b[33m\"\u001b[39m\u001b[38;5;132;01m{\u001b[39;00mk\u001b[38;5;132;01m}\u001b[39;00m\u001b[33m\"\u001b[39m\u001b[33m'\u001b[39m \u001b[38;5;28;01mfor\u001b[39;00m k \u001b[38;5;129;01min\u001b[39;00m missing_keys)\n\u001b[32m   2577\u001b[39m             ),\n\u001b[32m   2578\u001b[39m         )\n\u001b[32m   2580\u001b[39m \u001b[38;5;28;01mif\u001b[39;00m \u001b[38;5;28mlen\u001b[39m(error_msgs) > \u001b[32m0\u001b[39m:\n\u001b[32m-> \u001b[39m\u001b[32m2581\u001b[39m     \u001b[38;5;28;01mraise\u001b[39;00m \u001b[38;5;167;01mRuntimeError\u001b[39;00m(\n\u001b[32m   2582\u001b[39m         \u001b[33m\"\u001b[39m\u001b[33mError(s) in loading state_dict for \u001b[39m\u001b[38;5;132;01m{}\u001b[39;00m\u001b[33m:\u001b[39m\u001b[38;5;130;01m\\n\u001b[39;00m\u001b[38;5;130;01m\\t\u001b[39;00m\u001b[38;5;132;01m{}\u001b[39;00m\u001b[33m\"\u001b[39m.format(\n\u001b[32m   2583\u001b[39m             \u001b[38;5;28mself\u001b[39m.\u001b[34m__class__\u001b[39m.\u001b[34m__name__\u001b[39m, \u001b[33m\"\u001b[39m\u001b[38;5;130;01m\\n\u001b[39;00m\u001b[38;5;130;01m\\t\u001b[39;00m\u001b[33m\"\u001b[39m.join(error_msgs)\n\u001b[32m   2584\u001b[39m         )\n\u001b[32m   2585\u001b[39m     )\n\u001b[32m   2586\u001b[39m \u001b[38;5;28;01mreturn\u001b[39;00m _IncompatibleKeys(missing_keys, unexpected_keys)\n",
      "\u001b[31mRuntimeError\u001b[39m: Error(s) in loading state_dict for YOLOv1:\n\tMissing key(s) in state_dict: \"model.17.weight\", \"model.17.bias\", \"model.23.weight\", \"model.23.bias\", \"model.29.weight\", \"model.29.bias\", \"model.33.weight\", \"model.33.bias\", \"model.36.weight\", \"model.36.bias\", \"model.40.weight\", \"model.40.bias\", \"model.42.weight\", \"model.42.bias\", \"model.44.weight\", \"model.44.bias\", \"model.48.weight\", \"model.48.bias\", \"model.51.weight\", \"model.51.bias\", \"model.54.weight\", \"model.54.bias\". \n\tUnexpected key(s) in state_dict: \"model.16.weight\", \"model.16.bias\", \"model.18.weight\", \"model.18.bias\", \"model.22.weight\", \"model.22.bias\", \"model.24.weight\", \"model.24.bias\", \"model.28.weight\", \"model.28.bias\", \"model.32.weight\", \"model.32.bias\", \"model.34.weight\", \"model.34.bias\", \"model.35.weight\", \"model.35.bias\", \"model.41.weight\", \"model.41.bias\", \"model.43.weight\", \"model.43.bias\", \"model.49.weight\", \"model.49.bias\". \n\tsize mismatch for model.19.weight: copying a param with shape torch.Size([512, 256, 3, 3]) from checkpoint, the shape in current model is torch.Size([256, 512, 1, 1]).\n\tsize mismatch for model.19.bias: copying a param with shape torch.Size([512]) from checkpoint, the shape in current model is torch.Size([256]).\n\tsize mismatch for model.21.weight: copying a param with shape torch.Size([256, 512, 1, 1]) from checkpoint, the shape in current model is torch.Size([512, 256, 3, 3]).\n\tsize mismatch for model.21.bias: copying a param with shape torch.Size([256]) from checkpoint, the shape in current model is torch.Size([512]).\n\tsize mismatch for model.27.weight: copying a param with shape torch.Size([512, 512, 1, 1]) from checkpoint, the shape in current model is torch.Size([256, 512, 1, 1]).\n\tsize mismatch for model.27.bias: copying a param with shape torch.Size([512]) from checkpoint, the shape in current model is torch.Size([256]).\n\tsize mismatch for model.31.weight: copying a param with shape torch.Size([512, 1024, 1, 1]) from checkpoint, the shape in current model is torch.Size([512, 512, 1, 1]).\n\tsize mismatch for model.37.weight: copying a param with shape torch.Size([1024, 1024, 3, 3]) from checkpoint, the shape in current model is torch.Size([1024, 512, 3, 3]).\n\tsize mismatch for model.39.weight: copying a param with shape torch.Size([1024, 1024, 3, 3]) from checkpoint, the shape in current model is torch.Size([512, 1024, 1, 1]).\n\tsize mismatch for model.39.bias: copying a param with shape torch.Size([1024]) from checkpoint, the shape in current model is torch.Size([512]).\n\tsize mismatch for model.46.weight: copying a param with shape torch.Size([4096, 50176]) from checkpoint, the shape in current model is torch.Size([1024, 1024, 3, 3]).\n\tsize mismatch for model.46.bias: copying a param with shape torch.Size([4096]) from checkpoint, the shape in current model is torch.Size([1024])."
     ]
    }
   ],
   "source": [
    "import torch\n",
    "import os\n",
    "import utils\n",
    "from datetime import datetime\n",
    "from data_roboflow import YoloRoboflowDataset\n",
    "from models import YOLOv1\n",
    "from torch.utils.data import DataLoader\n",
    "\n",
    "# Configuration parameters\n",
    "model_dir = None  # Directory containing model weights\n",
    "weights = 'final'  # Name of weights file to use (without extension)\n",
    "batch_size = 8  # Batch size for evaluation\n",
    "iou_threshold = 0.5  # IoU threshold for mAP calculation\n",
    "confidence_threshold = 0.1  # Confidence threshold for detections\n",
    "\n",
    "# Set model directory if not provided\n",
    "if model_dir is None:\n",
    "    # Find most recent model directory\n",
    "    base_dir = 'models/yolo_v1'\n",
    "    if os.path.exists(base_dir):\n",
    "        dates = os.listdir(base_dir)\n",
    "        if dates:\n",
    "            latest_date = max(dates)\n",
    "            times = os.listdir(os.path.join(base_dir, latest_date))\n",
    "            if times:\n",
    "                latest_time = max(times)\n",
    "                model_dir = os.path.join(base_dir, latest_date, latest_time)\n",
    "                print(f\"Using most recent model directory: {model_dir}\")\n",
    "# Assert that model directory exists\n",
    "assert model_dir is not None and os.path.exists(model_dir), \"No model directory found. Please specify model_dir manually\"\n",
    "\n",
    "# Load class names\n",
    "classes = utils.load_class_array()\n",
    "print(f\"Loaded {len(classes)} classes: {classes}\")\n",
    "\n",
    "# Create dataset and dataloader\n",
    "print(\"Loading validation dataset...\")\n",
    "dataset = YoloRoboflowDataset('valid', normalize=True, augment=False)\n",
    "loader = DataLoader(dataset, batch_size=batch_size, shuffle=False)\n",
    "\n",
    "# Load model\n",
    "print(f\"Loading model from {model_dir}...\")\n",
    "model = YOLOv1()\n",
    "model.eval()\n",
    "weights_path = os.path.join(model_dir, 'weights', weights)\n",
    "model.load_state_dict(torch.load(weights_path, map_location=utils.device))\n",
    "model = model.to(utils.device)"
   ]
  },
  {
   "cell_type": "code",
   "execution_count": 1,
   "metadata": {},
   "outputs": [
    {
     "ename": "NameError",
     "evalue": "name 'dataset' is not defined",
     "output_type": "error",
     "traceback": [
      "\u001b[31m---------------------------------------------------------------------------\u001b[39m",
      "\u001b[31mNameError\u001b[39m                                 Traceback (most recent call last)",
      "\u001b[36mCell\u001b[39m\u001b[36m \u001b[39m\u001b[32mIn[1]\u001b[39m\u001b[32m, line 9\u001b[39m\n\u001b[32m      6\u001b[39m \u001b[38;5;28;01mimport\u001b[39;00m\u001b[38;5;250m \u001b[39m\u001b[34;01mnumpy\u001b[39;00m\u001b[38;5;250m \u001b[39m\u001b[38;5;28;01mas\u001b[39;00m\u001b[38;5;250m \u001b[39m\u001b[34;01mnp\u001b[39;00m\n\u001b[32m      8\u001b[39m \u001b[38;5;66;03m# Get a single image\u001b[39;00m\n\u001b[32m----> \u001b[39m\u001b[32m9\u001b[39m random_idx = torch.randint(\u001b[32m0\u001b[39m, \u001b[38;5;28mlen\u001b[39m(\u001b[43mdataset\u001b[49m), (\u001b[32m1\u001b[39m,)).item()\n\u001b[32m     10\u001b[39m image, label, original = dataset[random_idx]\n\u001b[32m     12\u001b[39m \u001b[38;5;66;03m# Add batch dimension\u001b[39;00m\n",
      "\u001b[31mNameError\u001b[39m: name 'dataset' is not defined"
     ]
    }
   ],
   "source": [
    "import torch\n",
    "import matplotlib.pyplot as plt\n",
    "import supervision as sv\n",
    "import cv2\n",
    "from tqdm import tqdm\n",
    "import numpy as np\n",
    "\n",
    "# Get a single image\n",
    "random_idx = torch.randint(0, len(dataset), (1,)).item()\n",
    "image, label, original = dataset[random_idx]\n",
    "\n",
    "# Add batch dimension\n",
    "image = image.unsqueeze(0).to(utils.device)\n",
    "\n",
    "# Get predictions\n",
    "model.eval()\n",
    "with torch.no_grad():\n",
    "    predictions = model(image)\n",
    "\n",
    "# Convert original image to numpy array for supervision visualization\n",
    "original_np = original.permute(1, 2, 0).numpy()\n",
    "original_np = (original_np * 255).astype('uint8')\n",
    "\n",
    "# Get bounding boxes from predictions\n",
    "pred_boxes = utils.extract_bboxes_from_yolo_output(predictions[0], min_confidence=0.1)\n",
    "pred_boxes = utils.non_max_suppression(pred_boxes, iou_threshold=0.5)\n",
    "\n",
    "pred_boxes\n"
   ]
  },
  {
   "cell_type": "code",
   "execution_count": 4,
   "metadata": {},
   "outputs": [
    {
     "ename": "NameError",
     "evalue": "name 'os' is not defined",
     "output_type": "error",
     "traceback": [
      "\u001b[31m---------------------------------------------------------------------------\u001b[39m",
      "\u001b[31mNameError\u001b[39m                                 Traceback (most recent call last)",
      "\u001b[36mCell\u001b[39m\u001b[36m \u001b[39m\u001b[32mIn[4]\u001b[39m\u001b[32m, line 2\u001b[39m\n\u001b[32m      1\u001b[39m \u001b[38;5;66;03m# Create results directory if needed\u001b[39;00m\n\u001b[32m----> \u001b[39m\u001b[32m2\u001b[39m results_dir = \u001b[43mos\u001b[49m.path.join(\u001b[33m'\u001b[39m\u001b[33mresults\u001b[39m\u001b[33m'\u001b[39m, \u001b[33m'\u001b[39m\u001b[33mevaluation\u001b[39m\u001b[33m'\u001b[39m, datetime.now().strftime(\u001b[33m'\u001b[39m\u001b[33m%\u001b[39m\u001b[33mY\u001b[39m\u001b[33m%\u001b[39m\u001b[33mm\u001b[39m\u001b[38;5;132;01m%d\u001b[39;00m\u001b[33m_\u001b[39m\u001b[33m%\u001b[39m\u001b[33mH\u001b[39m\u001b[33m%\u001b[39m\u001b[33mM\u001b[39m\u001b[33m%\u001b[39m\u001b[33mS\u001b[39m\u001b[33m'\u001b[39m))\n\u001b[32m      3\u001b[39m os.makedirs(results_dir, exist_ok=\u001b[38;5;28;01mTrue\u001b[39;00m)\n\u001b[32m      5\u001b[39m \u001b[38;5;66;03m# Evaluate model\u001b[39;00m\n",
      "\u001b[31mNameError\u001b[39m: name 'os' is not defined"
     ]
    }
   ],
   "source": [
    "# Create results directory if needed\n",
    "results_dir = os.path.join('results', 'evaluation', datetime.now().strftime('%Y%m%d_%H%M%S'))\n",
    "os.makedirs(results_dir, exist_ok=True)\n",
    "\n",
    "# Evaluate model\n",
    "print(f\"Evaluating model on {len(dataset)} validation images...\")\n",
    "results = utils.evaluate_model(model, loader, classes)\n",
    "\n",
    "# Print results\n",
    "print(\"\\nEvaluation Results:\")\n",
    "print(\"-\" * 50)\n",
    "\n",
    "# Print mAP metrics\n",
    "mAP_metrics = [key for key in results.keys() if key.startswith('mAP')]\n",
    "for metric in mAP_metrics:\n",
    "    print(f\"{metric}: {results[metric]:.4f}\")\n",
    "\n",
    "print(\"\\nPer-class Average Precision:\")\n",
    "print(\"-\" * 50)\n",
    "\n",
    "# Print AP metrics for each class\n",
    "for class_idx, class_name in enumerate(classes):\n",
    "    ap_05 = results.get(f\"AP@0.5_{class_name}\", 0)\n",
    "    ap_075 = results.get(f\"AP@0.75_{class_name}\", 0)\n",
    "    print(f\"{class_name}: AP@0.5={ap_05:.4f}, AP@0.75={ap_075:.4f}\")"
   ]
  }
 ],
 "metadata": {
  "kernelspec": {
   "display_name": ".venv",
   "language": "python",
   "name": "python3"
  },
  "language_info": {
   "codemirror_mode": {
    "name": "ipython",
    "version": 3
   },
   "file_extension": ".py",
   "mimetype": "text/x-python",
   "name": "python",
   "nbconvert_exporter": "python",
   "pygments_lexer": "ipython3",
   "version": "3.11.10"
  }
 },
 "nbformat": 4,
 "nbformat_minor": 2
}
